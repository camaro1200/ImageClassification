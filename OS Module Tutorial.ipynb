{
 "cells": [
  {
   "cell_type": "code",
   "execution_count": 44,
   "metadata": {},
   "outputs": [],
   "source": [
    "import numpy as np\n",
    "import os"
   ]
  },
  {
   "cell_type": "markdown",
   "metadata": {},
   "source": [
    "# Learn OS Module"
   ]
  },
  {
   "cell_type": "code",
   "execution_count": 43,
   "metadata": {},
   "outputs": [
    {
     "name": "stdout",
     "output_type": "stream",
     "text": [
      "/Users/pavelshaburov/Desktop\n",
      "/Users/pavelshaburov/Desktop\n",
      "['.DS_Store', '.localized', 'isu_schedule.pdf', 'Screenshot 2021-03-13 at 15.26.51.png', 'Статья для аннотации_Корпоративные сети и проблемы безопасности._для 3курса.docx', 'Machine Learning ODS', 'text2.txt', 'Myna Labs', 'Exams', '.ipynb_checkpoints', 'ComputerVision', 'dlcourse_ai']\n",
      "\n",
      "\n",
      "/Users/pavelshaburov\n",
      "/Users/pavelshaburov/Desktop/text2.txt\n",
      "text2.txt\n",
      "/Users/pavelshaburov/Desktop\n",
      "('/Users/pavelshaburov/Desktop', 'text2.txt')\n",
      "True\n",
      "True\n",
      "False\n"
     ]
    }
   ],
   "source": [
    "#print current working directory\n",
    "print(os.getcwd())\n",
    "\n",
    "#change directory\n",
    "os.chdir('/Users/pavelshaburov/Desktop/')\n",
    "print(os.getcwd())\n",
    "\n",
    "#list items in directory\n",
    "print(os.listdir())\n",
    "print()\n",
    "\n",
    "#create folder\n",
    "os.makedirs('random_folder1/folder2')\n",
    "os.mkdir('random_folder2')\n",
    "\n",
    "#delete folder\n",
    "os.removedirs('random_folder1/folder2')\n",
    "os.rmdir('random_folder2')\n",
    "print()\n",
    "\n",
    "#rename file/folder\n",
    "#os.rename('test.txt', 'demo.txt')\n",
    "\n",
    "#print info abbout a file\n",
    "#print(os.stat('text_file').st_size)\n",
    "#print()\n",
    "\n",
    "#traverse whole directory\n",
    "\"\"\"\n",
    "for dirpath, dirnames, filenames in os.walk('/Users/pavelshaburov/Desktop/ComputerVision/'):\n",
    "    print(\"current path\", dirpath)\n",
    "    print(\"current dirname\", dirnames)\n",
    "    print(\"files in dirname\", filenames)\n",
    "    print()\n",
    "\n",
    "\"\"\"\n",
    "\n",
    "#store environmnet variables:\n",
    "path = os.environ.get('HOME', '/Desktop/')\n",
    "print(path)\n",
    "\n",
    "# join paths to get 1 path\n",
    "path2 = os.path.join(path, 'Desktop', 'text2.txt')\n",
    "print(path2)\n",
    "\n",
    "#get path compoenents:\n",
    "print(os.path.basename(path2))          #print file name\n",
    "print(os.path.dirname(path2))           #print dir name\n",
    "print(os.path.split(path2))             #print both\n",
    "print(os.path.exists(path2))            #print existence of a file\n",
    "print(os.path.isfile(path2))            #print if file\n",
    "print(os.path.isdir(path2))             #print if dir\n",
    "\n",
    "# create file from path\n",
    "#with open(path2, 'w') as f:\n",
    "#f.wte"
   ]
  },
  {
   "cell_type": "code",
   "execution_count": null,
   "metadata": {},
   "outputs": [],
   "source": []
  }
 ],
 "metadata": {
  "kernelspec": {
   "display_name": "Python 3",
   "language": "python",
   "name": "python3"
  },
  "language_info": {
   "codemirror_mode": {
    "name": "ipython",
    "version": 3
   },
   "file_extension": ".py",
   "mimetype": "text/x-python",
   "name": "python",
   "nbconvert_exporter": "python",
   "pygments_lexer": "ipython3",
   "version": "3.8.3"
  }
 },
 "nbformat": 4,
 "nbformat_minor": 4
}
